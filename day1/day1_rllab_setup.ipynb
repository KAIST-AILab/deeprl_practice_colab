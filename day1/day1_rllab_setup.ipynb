{
 "cells": [
  {
   "cell_type": "markdown",
   "metadata": {
    "id": "CoNOofLcs1nU",
    "colab_type": "text"
   },
   "source": [
    "# rllab setup scripts for google colab"
   ]
  },
  {
   "cell_type": "markdown",
   "metadata": {
    "id": "pc9vjlkbpbdW",
    "colab_type": "text"
   },
   "source": [
    "Install packages with compatible versions"
   ]
  },
  {
   "cell_type": "code",
   "execution_count": 0,
   "metadata": {
    "id": "BI7SDg4K8e1K",
    "colab_type": "code",
    "colab": {}
   },
   "outputs": [],
   "source": [
    "!apt-get -qq install -y xvfb python-opengl > /dev/null 2>&1"
   ]
  },
  {
   "cell_type": "code",
   "execution_count": 0,
   "metadata": {
    "id": "Qjc2y4aCZH98",
    "colab_type": "code",
    "colab": {}
   },
   "outputs": [],
   "source": [
    "!pip install -q path.py\n",
    "!pip install -q pyprind\n",
    "!pip install -q cached_property\n",
    "!pip install -q gym==0.7.4\n",
    "!pip install -q theano==0.8.2\n",
    "!pip install -q git+https://github.com/neocxi/Lasagne.git@484866cf8b38d878e92d521be445968531646bb8#egg=Lasagne\n",
    "  \n",
    "!pip install -q PyOpenGL piglet pyglet pyvirtualdisplay"
   ]
  },
  {
   "cell_type": "markdown",
   "metadata": {
    "id": "Y4TRZUuqp9hG",
    "colab_type": "text"
   },
   "source": [
    "Clone rllab repository and move up the code directory so that you can import rllab in the notebook"
   ]
  },
  {
   "cell_type": "code",
   "execution_count": 0,
   "metadata": {
    "id": "5AYKrpOZXoP-",
    "colab_type": "code",
    "colab": {}
   },
   "outputs": [],
   "source": [
    "!git clone https://github.com/kekim/rllab.git rllab-git"
   ]
  },
  {
   "cell_type": "code",
   "execution_count": 0,
   "metadata": {
    "id": "zG4MzNzsXqdX",
    "colab_type": "code",
    "colab": {}
   },
   "outputs": [],
   "source": [
    "!mv rllab-git/rllab .\n",
    "!mv rllab-git/scripts ."
   ]
  },
  {
   "cell_type": "code",
   "execution_count": 0,
   "metadata": {
    "id": "jVdzZRiciemp",
    "colab_type": "code",
    "colab": {}
   },
   "outputs": [],
   "source": [
    "from pyvirtualdisplay import Display\n",
    "display = Display(visible=0, size=(1400, 900))\n",
    "display.start()\n",
    "import os\n",
    "os.environ[\"DISPLAY\"] = \":\" + str(display.display) + \".\" + str(display.screen)"
   ]
  },
  {
   "cell_type": "code",
   "execution_count": 0,
   "metadata": {
    "id": "2AQf7VRd-FuK",
    "colab_type": "code",
    "colab": {}
   },
   "outputs": [],
   "source": [
    ""
   ]
  }
 ],
 "metadata": {
  "colab": {
   "name": "day1_rllab_setup.ipynb",
   "version": "0.3.2",
   "provenance": [],
   "collapsed_sections": [],
   "toc_visible": true
  },
  "kernelspec": {
   "name": "python3",
   "display_name": "Python 3"
  },
  "accelerator": "GPU"
 },
 "nbformat": 4,
 "nbformat_minor": 0
}
