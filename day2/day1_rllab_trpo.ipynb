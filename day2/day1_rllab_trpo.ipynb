{
 "cells": [
  {
   "cell_type": "markdown",
   "metadata": {
    "id": "wP3KREMIG196",
    "colab_type": "text"
   },
   "source": [
    "# RLLAB setup scripts for google colab\n",
    "Install packages with compatible versions"
   ]
  },
  {
   "cell_type": "code",
   "execution_count": 0,
   "metadata": {
    "id": "2J5ROkw6Gcxq",
    "colab_type": "code",
    "colab": {}
   },
   "outputs": [],
   "source": [
    "!apt-get -qq install -y xvfb python-opengl > /dev/null 2>&1"
   ]
  },
  {
   "cell_type": "code",
   "execution_count": 0,
   "metadata": {
    "id": "tvacEH-tGtI1",
    "colab_type": "code",
    "colab": {}
   },
   "outputs": [],
   "source": [
    "!pip install -q path.py\n",
    "!pip install -q pyprind\n",
    "!pip install -q cached_property\n",
    "!pip install -q gym==0.7.4\n",
    "!pip install -q theano==0.8.2\n",
    "!pip install -q git+https://github.com/neocxi/Lasagne.git@484866cf8b38d878e92d521be445968531646bb8#egg=Lasagne\n",
    "  \n",
    "!pip install -q PyOpenGL piglet pyglet pyvirtualdisplay"
   ]
  },
  {
   "cell_type": "code",
   "execution_count": 0,
   "metadata": {
    "id": "TWKA_0xQHGAS",
    "colab_type": "code",
    "colab": {}
   },
   "outputs": [],
   "source": [
    "!pip install box2d-py mako==1.0.7 Pygame JSAnimation imageio"
   ]
  },
  {
   "cell_type": "code",
   "execution_count": 0,
   "metadata": {
    "id": "iDxIzxg9HJhp",
    "colab_type": "code",
    "colab": {}
   },
   "outputs": [],
   "source": [
    "!git clone https://github.com/kekim/rllab.git rllab-git"
   ]
  },
  {
   "cell_type": "code",
   "execution_count": 0,
   "metadata": {
    "id": "Hq4UosxRHMkq",
    "colab_type": "code",
    "colab": {}
   },
   "outputs": [],
   "source": [
    "!mv rllab-git/rllab .\n",
    "!mv rllab-git/scripts ."
   ]
  },
  {
   "cell_type": "markdown",
   "metadata": {
    "id": "DUHGgASMNg2N",
    "colab_type": "text"
   },
   "source": [
    "# Simple example running TRPO on CartPole (OpenAI Gym version)\n",
    "**Important!**\n",
    "Before running the following cell, make sure rllab is set up properly in your current runtime by executing codes in day1_rllab_setup.ipynb"
   ]
  },
  {
   "cell_type": "markdown",
   "metadata": {
    "id": "XA0g5MBZHQ3o",
    "colab_type": "text"
   },
   "source": [
    "**1. Implement Policy Optimization Algorithm**"
   ]
  },
  {
   "cell_type": "markdown",
   "metadata": {
    "id": "EJcqSePquDny",
    "colab_type": "text"
   },
   "source": [
    "- Import necessary packages\n",
    "(Execute **once again** if you encounter an error)"
   ]
  },
  {
   "cell_type": "code",
   "execution_count": 0,
   "metadata": {
    "id": "C49pvNj5HooC",
    "colab_type": "code",
    "colab": {}
   },
   "outputs": [],
   "source": [
    "########## TRPO_GYM_CARTPOLE_With_RUN_EXP_LITE ##########\n",
    "from rllab.baselines.linear_feature_baseline import LinearFeatureBaseline\n",
    "from rllab.envs.gym_env import GymEnv\n",
    "from rllab.envs.normalized_env import normalize\n",
    "from rllab.misc.instrument import run_experiment_lite\n",
    "from rllab.policies.categorical_mlp_policy import CategoricalMLPPolicy\n",
    "\n",
    "from rllab.algos.batch_polopt import BatchPolopt\n",
    "from rllab.optimizers.conjugate_gradient_optimizer import ConjugateGradientOptimizer\n",
    "\n",
    "from rllab.misc import ext\n",
    "from rllab.misc.overrides import overrides\n",
    "import rllab.misc.logger as logger\n",
    "import theano\n",
    "import theano.tensor as TT\n",
    "from rllab.optimizers.penalty_lbfgs_optimizer import PenaltyLbfgsOptimizer\n"
   ]
  },
  {
   "cell_type": "markdown",
   "metadata": {
    "id": "CAnQANVpuL2c",
    "colab_type": "text"
   },
   "source": [
    "- Implement NPO algorithm (Inherits from Batch Policy Optimization algorithm)"
   ]
  },
  {
   "cell_type": "code",
   "execution_count": 0,
   "metadata": {
    "id": "QMHmw1u_H8ML",
    "colab_type": "code",
    "colab": {}
   },
   "outputs": [],
   "source": [
    "##### Natural Policy Optimization. #####\n",
    "class NPO(BatchPolopt):\n",
    "    def __init__(\n",
    "            self,\n",
    "            optimizer=None,\n",
    "            optimizer_args=None,\n",
    "            step_size=0.01,\n",
    "            truncate_local_is_ratio=None,\n",
    "            **kwargs\n",
    "    ):\n",
    "        if optimizer is None:\n",
    "            if optimizer_args is None:\n",
    "                optimizer_args = dict()\n",
    "            optimizer = PenaltyLbfgsOptimizer(**optimizer_args)\n",
    "        self.optimizer = optimizer\n",
    "        self.step_size = step_size\n",
    "        self.truncate_local_is_ratio = truncate_local_is_ratio\n",
    "        super(NPO, self).__init__(**kwargs)\n",
    "\n",
    "    @overrides\n",
    "    def init_opt(self):\n",
    "        is_recurrent = int(self.policy.recurrent)\n",
    "        obs_var = self.env.observation_space.new_tensor_variable(\n",
    "            'obs',\n",
    "            extra_dims=1 + is_recurrent,\n",
    "        )\n",
    "        action_var = self.env.action_space.new_tensor_variable(\n",
    "            'action',\n",
    "            extra_dims=1 + is_recurrent,\n",
    "        )\n",
    "        advantage_var = ext.new_tensor(\n",
    "            'advantage',\n",
    "            ndim=1 + is_recurrent,\n",
    "            dtype=theano.config.floatX\n",
    "        )\n",
    "        dist = self.policy.distribution\n",
    "        old_dist_info_vars = {\n",
    "            k: ext.new_tensor(\n",
    "                'old_%s' % k,\n",
    "                ndim=2 + is_recurrent,\n",
    "                dtype=theano.config.floatX\n",
    "            ) for k in dist.dist_info_keys\n",
    "            }\n",
    "        old_dist_info_vars_list = [old_dist_info_vars[k] for k in dist.dist_info_keys]\n",
    "\n",
    "        state_info_vars = {\n",
    "            k: ext.new_tensor(\n",
    "                k,\n",
    "                ndim=2 + is_recurrent,\n",
    "                dtype=theano.config.floatX\n",
    "            ) for k in self.policy.state_info_keys\n",
    "        }\n",
    "        state_info_vars_list = [state_info_vars[k] for k in self.policy.state_info_keys]\n",
    "\n",
    "        if is_recurrent:\n",
    "            valid_var = TT.matrix('valid')\n",
    "        else:\n",
    "            valid_var = None\n",
    "\n",
    "        dist_info_vars = self.policy.dist_info_sym(obs_var, state_info_vars)\n",
    "        kl = dist.kl_sym(old_dist_info_vars, dist_info_vars)\n",
    "        lr = dist.likelihood_ratio_sym(action_var, old_dist_info_vars, dist_info_vars)\n",
    "        if self.truncate_local_is_ratio is not None:\n",
    "            lr = TT.minimum(self.truncate_local_is_ratio, lr)\n",
    "        if is_recurrent:\n",
    "            mean_kl = TT.sum(kl * valid_var) / TT.sum(valid_var)\n",
    "            surr_loss = - TT.sum(lr * advantage_var * valid_var) / TT.sum(valid_var)\n",
    "        else:\n",
    "            mean_kl = TT.mean(kl)\n",
    "            surr_loss = - TT.mean(lr * advantage_var)\n",
    "\n",
    "        input_list = [\n",
    "                         obs_var,\n",
    "                         action_var,\n",
    "                         advantage_var,\n",
    "                     ] + state_info_vars_list + old_dist_info_vars_list\n",
    "        if is_recurrent:\n",
    "            input_list.append(valid_var)\n",
    "\n",
    "        self.optimizer.update_opt(\n",
    "            loss=surr_loss,\n",
    "            target=self.policy,\n",
    "            leq_constraint=(mean_kl, self.step_size),\n",
    "            inputs=input_list,\n",
    "            constraint_name=\"mean_kl\"\n",
    "        )\n",
    "        return dict()\n",
    "\n",
    "    @overrides\n",
    "    def optimize_policy(self, itr, samples_data):\n",
    "        all_input_values = tuple(ext.extract(\n",
    "            samples_data,\n",
    "            \"observations\", \"actions\", \"advantages\"\n",
    "        ))\n",
    "        agent_infos = samples_data[\"agent_infos\"]\n",
    "        state_info_list = [agent_infos[k] for k in self.policy.state_info_keys]\n",
    "        dist_info_list = [agent_infos[k] for k in self.policy.distribution.dist_info_keys]\n",
    "        all_input_values += tuple(state_info_list) + tuple(dist_info_list)\n",
    "        if self.policy.recurrent:\n",
    "            all_input_values += (samples_data[\"valids\"],)\n",
    "        loss_before = self.optimizer.loss(all_input_values)\n",
    "        mean_kl_before = self.optimizer.constraint_val(all_input_values)\n",
    "        self.optimizer.optimize(all_input_values)\n",
    "        mean_kl = self.optimizer.constraint_val(all_input_values)\n",
    "        loss_after = self.optimizer.loss(all_input_values)\n",
    "        logger.record_tabular('LossBefore', loss_before)\n",
    "        logger.record_tabular('LossAfter', loss_after)\n",
    "        logger.record_tabular('MeanKLBefore', mean_kl_before)\n",
    "        logger.record_tabular('MeanKL', mean_kl)\n",
    "        logger.record_tabular('dLoss', loss_before - loss_after)\n",
    "        return dict()\n",
    "\n",
    "    @overrides\n",
    "    def get_itr_snapshot(self, itr, samples_data):\n",
    "        return dict(\n",
    "            itr=itr,\n",
    "            policy=self.policy,\n",
    "            baseline=self.baseline,\n",
    "            env=self.env,\n",
    "        )\n"
   ]
  },
  {
   "cell_type": "markdown",
   "metadata": {
    "id": "Mpugr_SbuYi_",
    "colab_type": "text"
   },
   "source": [
    "- Implement TRPO algorithm  (Inherits from Batch Policy Optimization algorithm)"
   ]
  },
  {
   "cell_type": "code",
   "execution_count": 0,
   "metadata": {
    "id": "nH-wxrAXILHm",
    "colab_type": "code",
    "colab": {}
   },
   "outputs": [],
   "source": [
    "##### Trust Region Policy Optimization #####\n",
    "class TRPO(NPO):\n",
    "    def __init__(\n",
    "            self,\n",
    "            optimizer=None,\n",
    "            optimizer_args=None,\n",
    "            **kwargs):\n",
    "        if optimizer is None:\n",
    "            if optimizer_args is None:\n",
    "                optimizer_args = dict()\n",
    "            optimizer = ConjugateGradientOptimizer(**optimizer_args)\n",
    "        super(TRPO, self).__init__(optimizer=optimizer, **kwargs)\n"
   ]
  },
  {
   "cell_type": "markdown",
   "metadata": {
    "id": "xF6kAwo57hb6",
    "colab_type": "text"
   },
   "source": [
    "**2. Execute Your Algorithm**"
   ]
  },
  {
   "cell_type": "markdown",
   "metadata": {
    "id": "UjHQm_6t7wK1",
    "colab_type": "text"
   },
   "source": [
    "- Activate a virtual display"
   ]
  },
  {
   "cell_type": "code",
   "execution_count": 0,
   "metadata": {
    "id": "oIUuJMGv7u8O",
    "colab_type": "code",
    "colab": {}
   },
   "outputs": [],
   "source": [
    "from pyvirtualdisplay import Display\n",
    "display = Display(visible=0, size=(1400, 900))\n",
    "display.start()\n",
    "import os\n",
    "os.environ[\"DISPLAY\"] = \":\" + str(display.display) + \".\" + str(display.screen)"
   ]
  },
  {
   "cell_type": "markdown",
   "metadata": {
    "id": "x6yM_2LavPBR",
    "colab_type": "text"
   },
   "source": [
    "- Create & Run a RL task for Cartpole"
   ]
  },
  {
   "cell_type": "code",
   "execution_count": 0,
   "metadata": {
    "id": "74oGATzdIO9b",
    "colab_type": "code",
    "colab": {}
   },
   "outputs": [],
   "source": [
    "##### Creating & Running a task #####\n",
    "def run_task(*_):\n",
    "    # Please note that different environments with different action spaces may require different policies.\n",
    "    # For example with a Discrete action space, aCategoricalMLPPolicy works,\n",
    "    # but for a Box action space may need to use a GaussianMLPPolicy (see the trpo_gym_pendulum.py example)\n",
    "\n",
    "    env = normalize(GymEnv(\"CartPole-v0\", record_video=True))\n",
    "\n",
    "    policy = CategoricalMLPPolicy(\n",
    "        env_spec=env.spec,\n",
    "        # The neural network policy should have two hidden layers, each with 32 hidden units.\n",
    "        hidden_sizes=(32, 32)\n",
    "    )\n",
    "\n",
    "    baseline = LinearFeatureBaseline(env_spec=env.spec)\n",
    "\n",
    "    algo = TRPO(\n",
    "        env=env,\n",
    "        policy=policy,\n",
    "        baseline=baseline,\n",
    "        batch_size=4000,\n",
    "        max_path_length=env.horizon,\n",
    "        n_itr=50,\n",
    "        discount=0.99,\n",
    "        step_size=0.01,\n",
    "        # Uncomment both lines (this and the plot parameter below) to enable plotting\n",
    "        # plot=True,\n",
    "    )\n",
    "    algo.train()\n",
    "\n",
    "\n",
    "run_experiment_lite(\n",
    "    run_task,\n",
    "    #env={'DISPLAY': os.environ['DISPLAY']},\n",
    "    # python_command='!/usr/local/bin/python',\n",
    "    # Number of parallel workers for sampling\n",
    "    n_parallel=1,\n",
    "    # Only keep the snapshot parameters for the last iteration\n",
    "    snapshot_mode=\"last\",\n",
    "    # Specifies the seed for the experiment. If this is not provided, a random seed will be used\n",
    "    seed=1,\n",
    "    # plot=True,\n",
    ")"
   ]
  },
  {
   "cell_type": "markdown",
   "metadata": {
    "id": "sdDOU5hwKlW4",
    "colab_type": "text"
   },
   "source": [
    "**3. Average Reward Plotting**"
   ]
  },
  {
   "cell_type": "markdown",
   "metadata": {
    "id": "ip1bXHMtvtWy",
    "colab_type": "text"
   },
   "source": [
    "- You can evaluate how your agent is being trained with reward it gets in every iteration. \n",
    "- Whenever you execute the code 'run_experiment_lite', it will generate a experiment directory.\n",
    "- (/content/data/local/experiment/experiment_2019_01_1x_xx_xx_xx_000x)\n",
    "- Please update the value of '**mypath**' and specify your new experiment directory name. "
   ]
  },
  {
   "cell_type": "code",
   "execution_count": 12,
   "metadata": {
    "id": "RlIgTMPOKqHX",
    "colab_type": "code",
    "colab": {
     "base_uri": "https://localhost:8080/",
     "height": 347.0
    },
    "outputId": "bc0678a3-7e17-46a8-939f-43b1e90eeb1f"
   },
   "outputs": [
    {
     "data": {
      "image/png": "[encoded data removed]",
      "text/plain": [
       "<matplotlib.figure.Figure at 0x7f7f29378d68>"
      ]
     },
     "metadata": {
      "tags": []
     },
     "output_type": "display_data"
    }
   ],
   "source": [
    "import os.path as osp\n",
    "import numpy as np\n",
    "import csv\n",
    "import matplotlib.pyplot as plt\n",
    "import json\n",
    "import joblib\n",
    "from glob import glob\n",
    "import os\n",
    "\n",
    "mypath = '/content/data/local/experiment/experiment_2019_01_07_12_12_32_0001/'\n",
    "\n",
    "plots = []\n",
    "legends = []\n",
    "returns = []\n",
    "with open(osp.join(mypath, 'progress.csv'), 'rt') as csvfile:\n",
    "    reader = csv.DictReader(csvfile)\n",
    "    for row in reader:\n",
    "        if row['AverageReturn']:\n",
    "            returns.append(float(row['AverageReturn']))\n",
    "returns = np.array(returns)\n",
    "plots.append(plt.plot(returns)[0])\n",
    "legends.append('AverageReturn')\n",
    "plt.legend(plots, legends)\n",
    "plt.show()"
   ]
  },
  {
   "cell_type": "markdown",
   "metadata": {
    "id": "rWDQUoPePLDx",
    "colab_type": "text"
   },
   "source": [
    "**4. Play Videos of your Agent Behavior**"
   ]
  },
  {
   "cell_type": "markdown",
   "metadata": {
    "id": "AhdxUQuozcRv",
    "colab_type": "text"
   },
   "source": [
    "- You can watch how your agent's behavior improves.\n",
    "- If you haven't update 'mypath' in the code above, you need to update it here.\n",
    "- (/content/data/local/experiment/experiment_2019_01_1x_xx_xx_xx_000x)"
   ]
  },
  {
   "cell_type": "code",
   "execution_count": 0,
   "metadata": {
    "id": "TPjtJ3IjPY5A",
    "colab_type": "code",
    "colab": {}
   },
   "outputs": [],
   "source": [
    "from IPython import display as pythondisplay\n",
    "# from pyvirtualdisplay import Display\n",
    "\n",
    "# from matplotlib.pyplot import imshow\n",
    "import matplotlib.pyplot as plt\n",
    "from matplotlib import animation\n",
    "from JSAnimation import IPython_display\n",
    "from IPython.display import HTML\n",
    "\n",
    "import imageio\n",
    "\n",
    "from os import listdir\n",
    "from os.path import isfile, join\n",
    "\n",
    "def plot_movie_js(image_array, filename):\n",
    "    dpi = 10.0\n",
    "    xpixels, ypixels = image_array[0].shape[0], image_array[0].shape[1]\n",
    "    fig = plt.figure(figsize=(ypixels/(dpi), xpixels/(dpi)), dpi=dpi)\n",
    "    fig.suptitle(filename, fontsize=160)\n",
    "    # fig.set_xlabel(filename, fontsize=160)\n",
    "    # fig.xlabel(filename, fontsize=160)\n",
    "    im = plt.figimage(image_array[0])\n",
    "\n",
    "    def animate(i):\n",
    "        im.set_array(image_array[i])\n",
    "        return (im,)\n",
    "    \n",
    "    anim = animation.FuncAnimation(fig, animate, frames=len(image_array))\n",
    "    pythondisplay.display(IPython_display.display_animation(anim))\n",
    "\n",
    "# mypath = '/content/data/local/experiment/experiment_2019_01_07_09_37_23_0001/\n",
    "mypath += 'gym_log/'\n",
    "mp4files = [f for f in listdir(mypath) if f.endswith(\".mp4\")]\n",
    "mp4files.sort()\n",
    "\n",
    "\n",
    "for filename in mp4files:\n",
    "    vid = imageio.get_reader(join(mypath, filename),  'ffmpeg')\n",
    "    # print(len(vid))\n",
    "    # print(vid.get_data(0).shape)\n",
    "\n",
    "    screenlist = []\n",
    "    for i in range(len(vid)):\n",
    "        image = vid.get_data(i)\n",
    "        screenlist.append(image)\n",
    "        # fig = plt.figure()\n",
    "        # fig.suptitle('image #{}'.format(i), fontsize=20)\n",
    "        # plt.imshow(image)\n",
    "\n",
    "    plot_movie_js(screenlist, filename)\n"
   ]
  }
 ],
 "metadata": {
  "colab": {
   "name": "day1_rllab_trpo.ipynb",
   "version": "0.3.2",
   "provenance": [],
   "collapsed_sections": []
  },
  "kernelspec": {
   "name": "python3",
   "display_name": "Python 3"
  },
  "accelerator": "GPU"
 },
 "nbformat": 4,
 "nbformat_minor": 0
}
